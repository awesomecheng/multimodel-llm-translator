{
 "cells": [
  {
   "cell_type": "code",
   "execution_count": 28,
   "metadata": {},
   "outputs": [],
   "source": [
    "import cv2\n",
    "import numpy as np\n",
    "import pandas as pd\n",
    "import base64\n",
    "from io import BytesIO\n",
    "from PIL import Image\n",
    "import os\n",
    "from gradio_client import Client\n"
   ]
  },
  {
   "cell_type": "code",
   "execution_count": 29,
   "metadata": {},
   "outputs": [],
   "source": [
    "def convert_image_to_base64(image):\n",
    "    _, buffer = cv2.imencode('.jpg', image)\n",
    "    img_base64 = base64.b64encode(buffer).decode('utf-8')\n",
    "    return img_base64"
   ]
  },
  {
   "cell_type": "code",
   "execution_count": 30,
   "metadata": {},
   "outputs": [],
   "source": [
    "def get_caption_from_api(image):\n",
    "    client = Client(\"fancyfeast/joy-caption-pre-alpha\")\n",
    "    result = client.predict(\n",
    "\t\tinput_image=image,\n",
    "\t\tapi_name=\"/stream_chat\"\n",
    ")\n",
    "    return result"
   ]
  },
  {
   "cell_type": "code",
   "execution_count": 31,
   "metadata": {},
   "outputs": [],
   "source": [
    "def get_video_files(directory):\n",
    "    return [f for f in os.listdir(directory) if f.endswith('.mp4')]"
   ]
  },
  {
   "cell_type": "code",
   "execution_count": 32,
   "metadata": {},
   "outputs": [],
   "source": [
    "def sample_frames(video_path, interval):\n",
    "    cap = cv2.VideoCapture(video_path)\n",
    "    frame_count = 0\n",
    "    data = []  # List to store frame number, video_id, and base64-encoded frame\n",
    "    \n",
    "    while cap.isOpened():\n",
    "        ret, frame = cap.read()\n",
    "        if not ret:\n",
    "            break\n",
    "        \n",
    "        # Sample a frame every 'interval' frames\n",
    "        if frame_count % interval == 0:\n",
    "            img_base64 = convert_image_to_base64(frame)  # Convert the frame to base64\n",
    "            data.append({'frame_number': frame_count, 'frame_base64': img_base64})\n",
    "        \n",
    "        frame_count += 1\n",
    "    \n",
    "    cap.release()\n",
    "    return data"
   ]
  },
  {
   "cell_type": "code",
   "execution_count": 33,
   "metadata": {},
   "outputs": [],
   "source": [
    "def process_videos_in_directory(directory, interval=60):\n",
    "    video_files = get_video_files(directory)\n",
    "    \n",
    "    all_data = []\n",
    "    \n",
    "    for video_file in video_files:\n",
    "        video_path = os.path.join(directory, video_file)\n",
    "        video_id = os.path.splitext(video_file)[0]  # Extract video_id from filename\n",
    "        \n",
    "        # Sample frames from the video\n",
    "        sampled_frames = sample_frames(video_path, interval)\n",
    "        \n",
    "        # Generate captions for each sampled frame\n",
    "        for frame_data in sampled_frames:\n",
    "            caption = get_caption_from_api(frame_data['frame_base64'])  # Replace with actual captioning\n",
    "            frame_data['video_id'] = video_id\n",
    "            frame_data['caption'] = caption\n",
    "            all_data.append(frame_data)\n",
    "    \n",
    "    # Convert collected data to a Pandas DataFrame\n",
    "    df = pd.DataFrame(all_data)\n",
    "    return df"
   ]
  },
  {
   "cell_type": "code",
   "execution_count": null,
   "metadata": {},
   "outputs": [],
   "source": [
    "directory_path = r\"/Users/yicheng/Downloads/test_video\"\n",
    "df = process_videos_in_directory(directory_path, 60)"
   ]
  },
  {
   "cell_type": "code",
   "execution_count": null,
   "metadata": {},
   "outputs": [],
   "source": []
  }
 ],
 "metadata": {
  "kernelspec": {
   "display_name": "Python 3",
   "language": "python",
   "name": "python3"
  },
  "language_info": {
   "codemirror_mode": {
    "name": "ipython",
    "version": 3
   },
   "file_extension": ".py",
   "mimetype": "text/x-python",
   "name": "python",
   "nbconvert_exporter": "python",
   "pygments_lexer": "ipython3",
   "version": "3.10.1"
  }
 },
 "nbformat": 4,
 "nbformat_minor": 2
}
