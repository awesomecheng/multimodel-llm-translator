{
 "cells": [
  {
   "cell_type": "code",
   "execution_count": 1,
   "metadata": {},
   "outputs": [],
   "source": [
    "import whisper "
   ]
  },
  {
   "cell_type": "code",
   "execution_count": 2,
   "metadata": {},
   "outputs": [
    {
     "name": "stderr",
     "output_type": "stream",
     "text": [
      "C:\\Users\\yicheng\\AppData\\Local\\Packages\\PythonSoftwareFoundation.Python.3.11_qbz5n2kfra8p0\\LocalCache\\local-packages\\Python311\\site-packages\\whisper\\transcribe.py:126: UserWarning: FP16 is not supported on CPU; using FP32 instead\n",
      "  warnings.warn(\"FP16 is not supported on CPU; using FP32 instead\")\n"
     ]
    },
    {
     "name": "stdout",
     "output_type": "stream",
     "text": [
      "Transcribed Text:  어! 이거 꼭 해야 되는 이유가 있다! 여기 티켓이 있네! 빨리 해! 구현아 빨리 하나 내봐 안돼 한 장밖에 없어 아니 이거 계속 두 장을 가두면 되잖아 형 기다려 천천히 천천히 이 형 사람 너무 좋아 형! 내가 쎘다니까 아니 가만 넣어놔! 가만 넣어놔! 가만있어 넣어놔! 빨리 해! 내가 잡으면 넣어줄게 약속이야 약속이야? 제가 인형폭킹 대장이에요 진짜요? 형 혼자 하신다고요? 근데 이거 내 돈인데 왜? 제가 한 번 할까요? 아 근데 얘가 지금요 얘가 방해할 것 같은데 지금 쟤 그냥 이렇게 축 하면은 일단 내려봐 느낌을 한번 봐야 돼 얘가 빡빡한지 안 빡빡한지 그래서 한 사람이 해야 돼요 그래도 제작진이 거무줄을 줬네 맞췔할 좀 있으라고 너 왜 거길 잡아? 거길 잡아요? 아니 이러면 안 잡았어 아니 머리를 잡아야죠 우와! 우와! 우와! 우와! 우와! 뭐야? 야 희철아! 너 뭐야? 기다려 기다려 다 놓고야 오빠 재오백 원이야 오빠 재오백 원이야 오빠 재오백 원이야 오빠 재오백 원이야 다 뽑으면 재밌겠다 다 뽑으면 재밌겠다 다 뽑으면 재밌겠다 두 장이야 형이 어떻게 그게 되냐? 됐어! 됐어! 됐다! 우와! 조용 조용 아! 아! 아니 아니 저거 다 홀라고 아니 아까 그 고민했는데 이게 안 돼? 나 한 번만 더 있어야지 마지막 마지막 가 누구야? 나 못해? 근데 형 자꾸 못하는데 왜 계속 아니 지금 왜 계속 하시는 거예요? 해 해 가 가 가! 아니 좀 더 이리로 가야 돼 더 더 더 됐어 됐어 맞는 것 같아 재훈아 처음이 맞았는데 어? 어? 어? 어? 아! 아! 아 진짜 아 오빠! 아 오빠! 얼마 쓴 거야? 지금 다 썼어 돈? 돈 다 썼어 형 내가 하나 바꿀까? 형 내가 계속 깡을 해도 되는 거야? 히터 좀 꺼주실래요? 히터 세찬이 형 해봐 형 은태 형 해봐 마음이 너무 착하죠 은태 형 뽑고 싶은 거 뽑아봐요 근데 저 강아지 하면 되겠다 한 번만 더 하세요 마음이 착해서 마음이 착해서 나 이렇게 착한 사람 처음 봐 이런 사람이 있어 그냥 산타야 산타 가만히 있잖아 어 됐다 설마 어 됐다 이거 된다 아! 이거 사기네 아니 올라오다가 이렇게 머리가 너무 커 어? 걸렸다 어? 된다 된다 아! 대장으로 들어가야 되는데 아! 내가 다 한다 한 장만 더 쓸까? 아! 아 진짜 너는 쓰지 마 이렇게 하는 거 아니야? 아니야 아니야 다른 거 뭐 없어? 형 진짜 그럼 너랑 나랑 한 사이 하자 그럼 우리 둘이서 하나씩 낼게요 재석이 형 티켓 없잖아 재석이 형 티켓 없잖아 형 티켓 없어? 다 가져온 거야 이걸로 해서 석진이 형 갚으면 되잖아 어? 됐어 괜찮아 딱 잡았어 잡았어 됐다 됐다 저 형 저 형 어 됐어 형 형 근데 얼마가 있는 거예요? 한 번도 못 잡지 않았어요 고무줄만 걸리면 돼 됐다 됐어 아니야 괜찮아 됐어 저거야 형도 돈이 얼마 있는 거예요? 그럼 제가 한 번 할까요? 형 곰 가고 아 아깝다 열심히 할 거거든 몰라 머리 됐다 잡았어 조용 괜찮아? 너 오늘 기운 너무 좋아 얘 기운 좋아 오늘 저 형 저 형 와 나 오늘 기운 좋아 예은아 너 왜 그래 나 오늘 기운 좋아 나 오늘 기운 좋다 진짜 예은아 너 진짜 짱이다 저기 이제 마지막이에요 괜찮다 뒤끝까지 와 너무 날씬해 조금만 더 들어가야 돼 얘 해도 나쁘지 않을 것 같아 괜찮은데? 어? 들어갔다 들어갔다 어? 와 왜 왜 뭐야 와 왜 왜 아니야 이거 아니잖아 아니 뭐하러 이게 뭐야 뭐야 몇 개짜리에요? 하나 일단 하나씩\n",
      "Detected Language: ko\n"
     ]
    }
   ],
   "source": [
    "model = whisper.load_model(\"medium\")\n",
    "result = model.transcribe(r\"C:\\Users\\yicheng\\OneDrive - Nanyang Technological University\\Documents\\GitHub\\Multimodel LLM\\multimodel-llm-translator\\Audio.mp3\")\n",
    "transcribed_text = result[\"text\"]\n",
    "detected_language = result[\"language\"]\n",
    "\n",
    "print(f\"Transcribed Text: {transcribed_text}\")\n",
    "print(f\"Detected Language: {detected_language}\")\n"
   ]
  },
  {
   "cell_type": "markdown",
   "metadata": {},
   "source": [
    "##Using Google Translate for translation## "
   ]
  },
  {
   "cell_type": "code",
   "execution_count": 3,
   "metadata": {},
   "outputs": [],
   "source": [
    "from googletrans import Translator"
   ]
  },
  {
   "cell_type": "code",
   "execution_count": 4,
   "metadata": {},
   "outputs": [
    {
     "name": "stdout",
     "output_type": "stream",
     "text": [
      "Translated Text: uh!There is a reason for this!There's a ticket here!Do it quickly!Implementation, I can't get one quickly. I just have to keep two sheets. Wait slowly and slowly.I am not so alone!Put it in!Just put it in!Do it quickly!I'll put it on if I catch it. Is it promise?I'm a doll's bumping captain, is it really?You are alone?But this is my money?Should I do it once?Oh, but this guy is going to interfere with this.Why do you have it?Do you get there?No, I didn't catch it. I have to hold my head. Wow!wow!wow!wow!wow!what?Heyhhhhhhhhhhhhhhhh!What are you?Wait for you to wait for your brother's five hundred won. Brother's five hundred won.it's okay!it's okay!It was!wow!Quiet ah!ah!No, it's all alone, but I was worried about it.I have to have one more time. Who is the last last?Can't you?But I can't keep my brother, but why do you keep on now?Sunga!No, I have to go a little bit more, it's better. I think it's right.uh?uh?uh?ah!ah!Oh, really ah brother!Oh brother!How much did you write?I've spent all now?I spent all the money, would I change one?Can I keep doing it?Would you like to turn off the heater?Hier Se -chan, let's do my brother.You're still.This is a scam, but my head is so big?Huh?It will be ah!I have to go into the large intestine.Should I use one more thing I do?ah!Oh, don't you really use it?No, no anything else?If you really do it with you and me, then we're going to pay one by two. You don't have a ticket.I brought it all.It's okay, I caught it.I haven't caught it before. It's okay to get a rubber band. It's okay.Then should I do it once?I'm going to go to my brother. I'm not going to work hard.I'm so happy today, I'm so good today's brother and today, I'm good at me, yes, yes, yes, yeah, why are you so good today. I'm really good today.I have to go in, but it's not bad.uh?Did you go in?Wow why are you why and why not this?On one one by one\n"
     ]
    }
   ],
   "source": [
    "translator = Translator()\n",
    "translated_text = translator.translate(transcribed_text, src=detected_language, dest=\"en\").text\n",
    "print(f\"Translated Text: {translated_text}\")"
   ]
  },
  {
   "cell_type": "markdown",
   "metadata": {},
   "source": [
    "## Using Deepseek for translation ##\n",
    "pip uninstall googletrans==4.0.0-rc1"
   ]
  },
  {
   "cell_type": "code",
   "execution_count": null,
   "metadata": {},
   "outputs": [],
   "source": [
    "import requests\n",
    "import openai"
   ]
  },
  {
   "cell_type": "code",
   "execution_count": null,
   "metadata": {},
   "outputs": [
    {
     "name": "stdout",
     "output_type": "stream",
     "text": [
      "Translated text: None\n"
     ]
    }
   ],
   "source": [
    "\n",
    "API_KEY = r\"INSERT DEEPSEEK API KEY\"\n",
    "url = r\"https://api.deepseek.com/v1\"\n",
    "target_language = 'en'\n",
    "headers = {\n",
    "    'Authorization': f'Bearer {API_KEY}',\n",
    "    'Content-Type': 'application/json'\n",
    "}\n",
    "\n",
    "payload = {\n",
    "    'text': translated_text,\n",
    "    'target_language': target_language\n",
    "}\n",
    "\n",
    "response = requests.post(url, headers=headers, json=payload)\n",
    "translation = response.json().get('translated_text')\n",
    "print(f\"Translated text: {translation}\")\n"
   ]
  },
  {
   "cell_type": "markdown",
   "metadata": {},
   "source": [
    "## unable to import openai\n",
    "## suspect version conflict\n",
    "## tried venv and didnt work "
   ]
  }
 ],
 "metadata": {
  "kernelspec": {
   "display_name": "Python 3",
   "language": "python",
   "name": "python3"
  },
  "language_info": {
   "codemirror_mode": {
    "name": "ipython",
    "version": 3
   },
   "file_extension": ".py",
   "mimetype": "text/x-python",
   "name": "python",
   "nbconvert_exporter": "python",
   "pygments_lexer": "ipython3",
   "version": "3.11.9"
  }
 },
 "nbformat": 4,
 "nbformat_minor": 2
}
